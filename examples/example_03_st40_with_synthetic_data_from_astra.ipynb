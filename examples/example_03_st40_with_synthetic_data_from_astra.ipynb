{
 "cells": [
  {
   "cell_type": "code",
   "execution_count": 1,
   "id": "059ddd35",
   "metadata": {},
   "outputs": [],
   "source": [
    "import os\n",
    "\n",
    "import matplotlib.pyplot as plt\n",
    "import numpy as np\n",
    "from gsfit import Gsfit\n",
    "from scipy import interpolate\n",
    "from st40_database import GetData"
   ]
  },
  {
   "cell_type": "code",
   "execution_count": 2,
   "id": "966ab2b8",
   "metadata": {},
   "outputs": [
    {
     "name": "stdout",
     "output_type": "stream",
     "text": [
      "2025-05-25 08:35:14  |  GSFIT  |  diagnostics_analysis_base.py:166     |  INFO  |  Loading settings from: \"GSFIT_code_settings.json\"\n",
      "2025-05-25 08:35:14  |  GSFIT  |  diagnostics_analysis_base.py:166     |  INFO  |  Loading settings from: \"passive_dof_regularisation.json\"\n",
      "2025-05-25 08:35:14  |  GSFIT  |  diagnostics_analysis_base.py:166     |  INFO  |  Loading settings from: \"sensor_weights_bp_probe.json\"\n",
      "2025-05-25 08:35:14  |  GSFIT  |  diagnostics_analysis_base.py:166     |  INFO  |  Loading settings from: \"sensor_weights_dialoop.json\"\n",
      "2025-05-25 08:35:14  |  GSFIT  |  diagnostics_analysis_base.py:166     |  INFO  |  Loading settings from: \"sensor_weights_flux_loops.json\"\n",
      "2025-05-25 08:35:14  |  GSFIT  |  diagnostics_analysis_base.py:166     |  INFO  |  Loading settings from: \"sensor_weights_isoflux.json\"\n",
      "2025-05-25 08:35:14  |  GSFIT  |  diagnostics_analysis_base.py:166     |  INFO  |  Loading settings from: \"sensor_weights_pressure.json\"\n",
      "2025-05-25 08:35:14  |  GSFIT  |  diagnostics_analysis_base.py:166     |  INFO  |  Loading settings from: \"sensor_weights_rogowski_coils.json\"\n",
      "2025-05-25 08:35:14  |  GSFIT  |  diagnostics_analysis_base.py:166     |  INFO  |  Loading settings from: \"source_function_ff_prime.json\"\n",
      "2025-05-25 08:35:14  |  GSFIT  |  diagnostics_analysis_base.py:166     |  INFO  |  Loading settings from: \"source_function_p_prime.json\"\n",
      "2025-05-25 08:35:14  |  GSFIT  |  gsfit.py:90                          |  INFO  |  Running Gsfit, for pulseNo=13012050\n",
      "RUN202\n"
     ]
    },
    {
     "ename": "TreeNNF",
     "evalue": "%TREE-W-NNF, Node Not Found",
     "output_type": "error",
     "traceback": [
      "\u001b[31m---------------------------------------------------------------------------\u001b[39m",
      "\u001b[31mTreeNNF\u001b[39m                                   Traceback (most recent call last)",
      "\u001b[36mCell\u001b[39m\u001b[36m \u001b[39m\u001b[32mIn[2]\u001b[39m\u001b[32m, line 14\u001b[39m\n\u001b[32m      3\u001b[39m pulseNo_write = pulseNo_real + \u001b[32m11_000_000\u001b[39m\n\u001b[32m      5\u001b[39m controller_inverse = Gsfit(\n\u001b[32m      6\u001b[39m     pulseNo=pulseNo_read,\n\u001b[32m      7\u001b[39m     run_name=\u001b[33m\"\u001b[39m\u001b[33mRUN202\u001b[39m\u001b[33m\"\u001b[39m,\n\u001b[32m   (...)\u001b[39m\u001b[32m     11\u001b[39m     settings_path=\u001b[33m\"\u001b[39m\u001b[33mst40_with_synthetic_data_from_astra\u001b[39m\u001b[33m\"\u001b[39m,\n\u001b[32m     12\u001b[39m )\n\u001b[32m---> \u001b[39m\u001b[32m14\u001b[39m \u001b[43mcontroller_inverse\u001b[49m\u001b[43m.\u001b[49m\u001b[43mrun\u001b[49m\u001b[43m(\u001b[49m\u001b[43m)\u001b[49m\n",
      "\u001b[36mFile \u001b[39m\u001b[32m~/gitlab/gsfit/python/gsfit/gsfit.py:98\u001b[39m, in \u001b[36mGsfit.run\u001b[39m\u001b[34m(self, **kwargs)\u001b[39m\n\u001b[32m     94\u001b[39m \u001b[38;5;28mself\u001b[39m.setup_timeslices()\n\u001b[32m     96\u001b[39m \u001b[38;5;66;03m# Read in all the machine settings and initalise the following Rust implementations:\u001b[39;00m\n\u001b[32m     97\u001b[39m \u001b[38;5;66;03m# `coils`, `passives`, `plasma`, `bp_probes`, `flux_loops`, `rogowski_coils`, `isoflux`, and `isoflux_boundary`\u001b[39;00m\n\u001b[32m---> \u001b[39m\u001b[32m98\u001b[39m \u001b[38;5;28;43mself\u001b[39;49m\u001b[43m.\u001b[49m\u001b[43msetup_objects\u001b[49m\u001b[43m(\u001b[49m\u001b[43m*\u001b[49m\u001b[43m*\u001b[49m\u001b[43mkwargs\u001b[49m\u001b[43m)\u001b[49m\n\u001b[32m    100\u001b[39m \u001b[38;5;66;03m# Calculate the Greens functions for all permutations between current source objects and sensors.\u001b[39;00m\n\u001b[32m    101\u001b[39m \u001b[38;5;28mself\u001b[39m.calculate_greens()\n",
      "\u001b[36mFile \u001b[39m\u001b[32m~/gitlab/gsfit/python/gsfit/gsfit.py:266\u001b[39m, in \u001b[36mGsfit.setup_objects\u001b[39m\u001b[34m(self, **kwargs)\u001b[39m\n\u001b[32m    263\u001b[39m database_reader = get_database_reader(database_reader_method)\n\u001b[32m    265\u001b[39m \u001b[38;5;66;03m# Initialise and store the Rust implementations\u001b[39;00m\n\u001b[32m--> \u001b[39m\u001b[32m266\u001b[39m \u001b[38;5;28mself\u001b[39m.coils = \u001b[43mdatabase_reader\u001b[49m\u001b[43m.\u001b[49m\u001b[43msetup_coils\u001b[49m\u001b[43m(\u001b[49m\u001b[43mpulseNo\u001b[49m\u001b[43m=\u001b[49m\u001b[38;5;28;43mself\u001b[39;49m\u001b[43m.\u001b[49m\u001b[43mpulseNo\u001b[49m\u001b[43m,\u001b[49m\u001b[43m \u001b[49m\u001b[43msettings\u001b[49m\u001b[43m=\u001b[49m\u001b[38;5;28;43mself\u001b[39;49m\u001b[43m.\u001b[49m\u001b[43msettings\u001b[49m\u001b[43m,\u001b[49m\u001b[43m \u001b[49m\u001b[43m*\u001b[49m\u001b[43m*\u001b[49m\u001b[43mkwargs\u001b[49m\u001b[43m)\u001b[49m\n\u001b[32m    267\u001b[39m \u001b[38;5;28mself\u001b[39m.logger.info(msg=\u001b[33m\"\u001b[39m\u001b[33m`coils` initialised\u001b[39m\u001b[33m\"\u001b[39m)\n\u001b[32m    268\u001b[39m \u001b[38;5;28mself\u001b[39m.bp_probes = database_reader.setup_bp_probes(pulseNo=\u001b[38;5;28mself\u001b[39m.pulseNo, settings=\u001b[38;5;28mself\u001b[39m.settings, **kwargs)\n",
      "\u001b[36mFile \u001b[39m\u001b[32m~/gitlab/gsfit/python/gsfit/database_readers/st40_astra_mdsplus/__init__.py:15\u001b[39m, in \u001b[36mDatabaseReaderST40AstraMDSplus.<lambda>\u001b[39m\u001b[34m(*args, **kwargs)\u001b[39m\n\u001b[32m     13\u001b[39m \u001b[38;5;28;01mclass\u001b[39;00m\u001b[38;5;250m \u001b[39m\u001b[34;01mDatabaseReaderST40AstraMDSplus\u001b[39;00m(DatabaseReaderProtocol):\n\u001b[32m     14\u001b[39m     setup_bp_probes = \u001b[38;5;28;01mlambda\u001b[39;00m *args, **kwargs: setup_bp_probes(*args, **kwargs)\n\u001b[32m---> \u001b[39m\u001b[32m15\u001b[39m     setup_coils = \u001b[38;5;28;01mlambda\u001b[39;00m *args, **kwargs: \u001b[43msetup_coils\u001b[49m\u001b[43m(\u001b[49m\u001b[43m*\u001b[49m\u001b[43margs\u001b[49m\u001b[43m,\u001b[49m\u001b[43m \u001b[49m\u001b[43m*\u001b[49m\u001b[43m*\u001b[49m\u001b[43mkwargs\u001b[49m\u001b[43m)\u001b[49m\n\u001b[32m     16\u001b[39m     setup_dialoop = \u001b[38;5;28;01mlambda\u001b[39;00m *args, **kwargs: setup_dialoop(*args, **kwargs)\n\u001b[32m     17\u001b[39m     setup_flux_loops = \u001b[38;5;28;01mlambda\u001b[39;00m *args, **kwargs: setup_flux_loops(*args, **kwargs)\n",
      "\u001b[36mFile \u001b[39m\u001b[32m~/gitlab/gsfit/python/gsfit/database_readers/st40_astra_mdsplus/setup_coils.py:59\u001b[39m, in \u001b[36msetup_coils\u001b[39m\u001b[34m(self, settings, pulseNo)\u001b[39m\n\u001b[32m     56\u001b[39m time = conn.get(\u001b[33mf\u001b[39m\u001b[33m\"\u001b[39m\u001b[38;5;130;01m\\\\\u001b[39;00m\u001b[33mASTRA::TOP.\u001b[39m\u001b[38;5;132;01m{\u001b[39;00mastra_run_name\u001b[38;5;132;01m}\u001b[39;00m\u001b[33m:TIME\u001b[39m\u001b[33m\"\u001b[39m).data().astype(np.float64)\n\u001b[32m     58\u001b[39m \u001b[38;5;66;03m# Read in BVL PSU current\u001b[39;00m\n\u001b[32m---> \u001b[39m\u001b[32m59\u001b[39m current = \u001b[43mconn\u001b[49m\u001b[43m.\u001b[49m\u001b[43mget\u001b[49m\u001b[43m(\u001b[49m\u001b[33;43mf\u001b[39;49m\u001b[33;43m\"\u001b[39;49m\u001b[38;5;130;43;01m\\\\\u001b[39;49;00m\u001b[33;43mASTRA::TOP.\u001b[39;49m\u001b[38;5;132;43;01m{\u001b[39;49;00m\u001b[43mastra_run_name\u001b[49m\u001b[38;5;132;43;01m}\u001b[39;49;00m\u001b[33;43m.PSU.BVL:I\u001b[39;49m\u001b[33;43m\"\u001b[39;49m\u001b[43m)\u001b[49m.data().astype(np.float64) * \u001b[32m1.0e6\u001b[39m\n\u001b[32m     60\u001b[39m \u001b[38;5;66;03m# Add BVLB PF coil\u001b[39;00m\n\u001b[32m     61\u001b[39m coil_name = \u001b[33m\"\u001b[39m\u001b[33mBVLB\u001b[39m\u001b[33m\"\u001b[39m\n",
      "\u001b[36mFile \u001b[39m\u001b[32m~/gitlab/gsfit/venv_gsfit/lib/python3.13/site-packages/mdsthin/connection.py:494\u001b[39m, in \u001b[36mConnection.get\u001b[39m\u001b[34m(self, expr, *args)\u001b[39m\n\u001b[32m    491\u001b[39m manswer, data = \u001b[38;5;28mself\u001b[39m._recv()\n\u001b[32m    493\u001b[39m \u001b[38;5;28;01mif\u001b[39;00m STATUS_NOT_OK(manswer.status):\n\u001b[32m--> \u001b[39m\u001b[32m494\u001b[39m     \u001b[38;5;28;01mraise\u001b[39;00m getException(manswer.status)\n\u001b[32m    496\u001b[39m \u001b[38;5;28;01mreturn\u001b[39;00m data\n",
      "\u001b[31mTreeNNF\u001b[39m: %TREE-W-NNF, Node Not Found"
     ]
    }
   ],
   "source": [
    "pulseNo_real = 12050\n",
    "pulseNo_read = pulseNo_real + 13_000_000\n",
    "pulseNo_write = pulseNo_real + 11_000_000\n",
    "\n",
    "controller_inverse = Gsfit(\n",
    "    pulseNo=pulseNo_read,\n",
    "    run_name=\"RUN202\",\n",
    "    pulseNo_write=pulseNo_write,\n",
    "    run_description=\"Reconstructing ASTRA#RUN220\",\n",
    "    write_to_mds=True,\n",
    "    settings_path=\"st40_with_synthetic_data_from_astra\",\n",
    ")\n",
    "\n",
    "controller_inverse.run()"
   ]
  },
  {
   "cell_type": "code",
   "execution_count": null,
   "id": "83da1c23",
   "metadata": {},
   "outputs": [],
   "source": [
    "# Get data out of ASTRA run\n",
    "astra = GetData(pulseNo=pulseNo_read, code_run=\"ASTRA#RUN220\")\n",
    "astra_time = astra.get(\"TIME\").astype(np.float64)\n",
    "astra_br = astra.get(\"PSI2D.FREE.BR\").astype(np.float64)\n",
    "astra_bz = astra.get(\"PSI2D.FREE.BZ\").astype(np.float64)\n",
    "astra_r = astra.get(\"PSI2D.FREE.RGRID\").astype(np.float64)\n",
    "astra_z = astra.get(\"PSI2D.FREE.ZGRID\").astype(np.float64)\n",
    "astra_n_time = len(astra_time)"
   ]
  },
  {
   "cell_type": "code",
   "execution_count": null,
   "id": "5d1755b0",
   "metadata": {},
   "outputs": [],
   "source": [
    "def add_new_sensor(new_probe_name, new_probe_r, new_probe_z, new_probe_angle):\n",
    "    # Add the probe weights to the json settings file (not technically needed, but good for storing)\n",
    "    new_probe_settings = {\"fit_settings\": {\"expected_value\": 0.0128, \"weight\": 1.0, \"include\": True, \"comment\": \"new divertor porbe\"}}\n",
    "    controller_inverse.settings[\"sensor_weights_bp_probe.json\"][new_probe_name] = new_probe_settings\n",
    "\n",
    "    # Interpolate the measured values\n",
    "    measured_values = np.zeros(astra_n_time)\n",
    "    for i_time in range(0, astra_n_time):\n",
    "        # Interpolate the measured values\n",
    "        br_interpolator = interpolate.RectBivariateSpline(astra_z, astra_r, astra_br[i_time, :, :])\n",
    "        bz_interpolator = interpolate.RectBivariateSpline(astra_z, astra_r, astra_bz[i_time, :, :])\n",
    "\n",
    "        # Calculate `br` and `bz` at the probe location\n",
    "        br_at_probe = br_interpolator(new_probe_z, new_probe_r)[0][0]\n",
    "        bz_at_probe = bz_interpolator(new_probe_z, new_probe_r)[0][0]\n",
    "\n",
    "        # Calculate the measured value\n",
    "        measured_values[i_time] = br_at_probe * np.cos(new_probe_angle) + bz_at_probe * np.sin(new_probe_angle)\n",
    "\n",
    "    # Add to the bp_probe\n",
    "    controller_inverse.bp_probes.add_sensor(\n",
    "        name=new_probe_name,\n",
    "        geometry_angle_pol=new_probe_angle,\n",
    "        geometry_r=new_probe_r,\n",
    "        geometry_z=new_probe_z,\n",
    "        fit_settings_comment=new_probe_settings[\"fit_settings\"][\"comment\"],\n",
    "        fit_settings_expected_value=new_probe_settings[\"fit_settings\"][\"expected_value\"],\n",
    "        fit_settings_include=new_probe_settings[\"fit_settings\"][\"include\"],\n",
    "        fit_settings_weight=new_probe_settings[\"fit_settings\"][\"weight\"],\n",
    "        time=astra_time,\n",
    "        measured=measured_values,\n",
    "    )\n",
    "\n",
    "\n",
    "# Give the probe a name and location\n",
    "new_probe_name = \"bp_new_01_lower\"\n",
    "new_probe_r = 0.27\n",
    "new_probe_z = -0.67\n",
    "new_probe_angle = 0.0\n",
    "add_new_sensor(new_probe_name, new_probe_r, new_probe_z, new_probe_angle)\n",
    "\n",
    "# Give the probe a name and location\n",
    "new_probe_name = \"bp_new_01_upper\"\n",
    "add_new_sensor(new_probe_name, new_probe_r, -new_probe_z, np.pi - new_probe_angle)"
   ]
  },
  {
   "cell_type": "code",
   "execution_count": null,
   "id": "2d50fc73",
   "metadata": {},
   "outputs": [
    {
     "name": "stdout",
     "output_type": "stream",
     "text": [
      "2025-05-13 14:40:22  |  GSFIT  |  gsfit.py:159                         |  INFO  |  Finished Greens with coils\n",
      "2025-05-13 14:40:38  |  GSFIT  |  gsfit.py:168                         |  INFO  |  Finished Greens with passives\n",
      "2025-05-13 14:40:38  |  GSFIT  |  gsfit.py:176                         |  INFO  |  Finished Greens with plasma\n",
      "2025-05-13 14:40:38  |  GSFIT  |  gsfit.py:118                         |  INFO  |  About to call: \"gsfit_rs.solve_inverse_problem\"\n",
      "2025-05-13 14:40:56  |  GSFIT  |  gsfit.py:139                         |  INFO  |  Finished: `gsfit_rs.solve_inverse_problem` time = 17743.748426437378ms\n",
      "solve_inverse_problem starting\n",
      "time=0.01\n",
      "time=0.09999999999999998\n",
      "time=0.03\n",
      "time=0.05499999999999999\n",
      "time=0.10499999999999998\n",
      "time=0.019999999999999997\n",
      "time=0.07499999999999998\n",
      "time=0.045\n",
      "time=0.05999999999999999\n",
      "time=0.06499999999999999\n",
      "time=0.024999999999999998\n",
      "time=0.08499999999999998\n",
      "time=0.175\n",
      "time=0.10999999999999997\n",
      "time=0.11999999999999998\n",
      "time=0.145\n",
      "time=0.039999999999999994\n",
      "time=0.06999999999999999\n",
      "time=0.16999999999999998\n",
      "time=0.015\n",
      "time=0.07999999999999999\n",
      "time=0.049999999999999996\n",
      "time=0.18\n",
      "time=0.16499999999999998\n",
      "time=0.08999999999999998\n",
      "time=0.09499999999999999\n",
      "time=0.11499999999999998\n",
      "time=0.034999999999999996\n",
      "time=0.15999999999999998\n",
      "time=0.15\n",
      "time=0.155\n",
      "time=0.12999999999999998\n",
      "Found GS solution.\n",
      "time=0.12499999999999997\n",
      "Found GS solution.\n",
      "time=0.18499999999999997\n",
      "Found GS solution.\n",
      "time=0.13499999999999998\n",
      "Found GS solution.\n",
      "time=0.13999999999999999\n",
      "Found GS solution.\n",
      "Found GS solution.\n",
      "Found GS solution.\n",
      "Found GS solution.\n",
      "Found GS solution.\n",
      "Found GS solution.\n",
      "Found GS solution.\n",
      "Found GS solution.\n",
      "Found GS solution.\n",
      "Found GS solution.\n",
      "Found GS solution.\n",
      "Found GS solution.\n",
      "Found GS solution.\n",
      "Found GS solution.\n",
      "Found GS solution.\n",
      "Found GS solution.\n",
      "Found GS solution.\n",
      "Found GS solution.\n",
      "Found GS solution.\n",
      "Found GS solution.\n",
      "Found GS solution.\n",
      "Found GS solution.\n",
      "Found GS solution.\n",
      "Found GS solution.\n",
      "Found GS solution.\n",
      "Found GS solution.\n",
      "Found GS solution.\n",
      "Found GS solution.\n",
      "Found GS solution.\n",
      "Found GS solution.\n",
      "Found GS solution.\n",
      "Found GS solution.\n",
      "equilibrium_post_processor: starting\n",
      "2025-05-13 14:40:57  |  GSFIT  |  gsfit.py:70                          |  INFO  |  Writing to MDSplus\n"
     ]
    }
   ],
   "source": [
    "controller_inverse.run_name = \"NEW_01\"  # change run_name to write to MDSplus\n",
    "controller_inverse.initialise_greens()\n",
    "controller_inverse.inverse_solver_rust()\n",
    "controller_inverse.write_results_to_mdsplus()"
   ]
  },
  {
   "cell_type": "code",
   "execution_count": null,
   "id": "8c695cbf",
   "metadata": {},
   "outputs": [],
   "source": [
    "gsfit_time = controller_inverse.results[\"TIME\"]\n",
    "bp_probes = controller_inverse.bp_probes\n",
    "bp_probes_keys = bp_probes.keys()\n",
    "bp_probes_measured = bp_probes.get_array2([\"*\", \"b\", \"measured\"])\n",
    "bp_probes_calculated = bp_probes.get_array2([\"*\", \"b\", \"calculated\"])"
   ]
  },
  {
   "cell_type": "code",
   "execution_count": null,
   "id": "8f0a913a",
   "metadata": {},
   "outputs": [
    {
     "data": {
      "image/png": "[encoded data removed]",
      "text/plain": [
       "<Figure size 640x480 with 1 Axes>"
      ]
     },
     "metadata": {},
     "output_type": "display_data"
    }
   ],
   "source": [
    "time_desired = 100.0e-3\n",
    "i_time = np.argmin(np.abs(gsfit_time - time_desired))\n",
    "\n",
    "plt.figure()\n",
    "i_sensors = list(range(34)) + [len(bp_probes_keys) - 2] + [len(bp_probes_keys) - 1]\n",
    "plt.plot(\n",
    "    [bp_probes_keys[i] for i in i_sensors],\n",
    "    bp_probes_measured[i_time, i_sensors],\n",
    "    color=\"blue\",\n",
    ")\n",
    "plt.plot(\n",
    "    [bp_probes_keys[i] for i in i_sensors],\n",
    "    bp_probes_calculated[i_time, i_sensors],\n",
    "    color=\"red\",\n",
    ")\n",
    "plt.xticks(rotation=90);"
   ]
  }
 ],
 "metadata": {
  "kernelspec": {
   "display_name": "venv_gsfit",
   "language": "python",
   "name": "python3"
  },
  "language_info": {
   "codemirror_mode": {
    "name": "ipython",
    "version": 3
   },
   "file_extension": ".py",
   "mimetype": "text/x-python",
   "name": "python",
   "nbconvert_exporter": "python",
   "pygments_lexer": "ipython3",
   "version": "3.13.2"
  }
 },
 "nbformat": 4,
 "nbformat_minor": 5
}
